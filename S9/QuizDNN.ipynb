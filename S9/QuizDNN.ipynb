{
 "cells": [
  {
   "cell_type": "code",
   "execution_count": 1,
   "metadata": {},
   "outputs": [
    {
     "name": "stdout",
     "output_type": "stream",
     "text": [
      "Requirement already satisfied: torchsummary in c:\\anaconda3\\envs\\eva5\\lib\\site-packages (1.5.1)\n"
     ]
    }
   ],
   "source": [
    "import torch\n",
    "#import torch.nn as nn\n",
    "import torch.optim as optim\n",
    "from tqdm import tqdm\n",
    "import torchvision.transforms as transforms\n",
    "\n",
    "!pip install torchsummary\n",
    "from torchsummary import summary\n",
    "\n",
    "from ezio.data import dataset \n",
    "from ezio.runner import engine\n",
    "from ezio.utils import loss"
   ]
  },
  {
   "cell_type": "code",
   "execution_count": 2,
   "metadata": {},
   "outputs": [],
   "source": [
    "## Create train and test transforms\n",
    "train_transforms = transforms.Compose(\n",
    "    [transforms.RandomAffine(7, (0.1, 0.1), (0.9, 1.1), 7),\n",
    "     transforms.RandomHorizontalFlip(p=0.5),\n",
    "     transforms.ToTensor(),\n",
    "     transforms.Normalize((0.49139968, 0.48215841, 0.44653091), (0.24703223, 0.24348513, 0.26158784))])\n",
    "\n",
    "test_transforms = transforms.Compose(\n",
    "    [transforms.ToTensor(),\n",
    "     transforms.Normalize((0.49139968, 0.48215841, 0.44653091), (0.24703223, 0.24348513, 0.26158784))])"
   ]
  },
  {
   "cell_type": "code",
   "execution_count": 3,
   "metadata": {},
   "outputs": [],
   "source": [
    "use_cuda = torch.cuda.is_available()\n",
    "device = torch.device(\"cuda\" if use_cuda else \"cpu\")"
   ]
  },
  {
   "cell_type": "code",
   "execution_count": 4,
   "metadata": {},
   "outputs": [
    {
     "name": "stdout",
     "output_type": "stream",
     "text": [
      "Files already downloaded and verified\n",
      "Files already downloaded and verified\n"
     ]
    }
   ],
   "source": [
    "train_set, valid_set = dataset.cifar10_dataset(train_transforms, test_transforms)"
   ]
  },
  {
   "cell_type": "code",
   "execution_count": 5,
   "metadata": {},
   "outputs": [],
   "source": [
    "train_loader, valid_loader = dataset.create_loaders(train_set, valid_set, train_batch_size=128, valid_batch_size=32, num_workers=4)"
   ]
  },
  {
   "cell_type": "code",
   "execution_count": 6,
   "metadata": {},
   "outputs": [],
   "source": [
    "from ezio.model.QuizDNN import QuizDNN\n",
    "model = QuizDNN().to(device)"
   ]
  },
  {
   "cell_type": "code",
   "execution_count": 7,
   "metadata": {},
   "outputs": [
    {
     "name": "stdout",
     "output_type": "stream",
     "text": [
      "----------------------------------------------------------------\n",
      "        Layer (type)               Output Shape         Param #\n",
      "================================================================\n",
      "            Conv2d-1           [-1, 64, 32, 32]           1,728\n",
      "              ReLU-2           [-1, 64, 32, 32]               0\n",
      "       BatchNorm2d-3           [-1, 64, 32, 32]             128\n",
      "            Conv2d-4           [-1, 64, 32, 32]          36,864\n",
      "              ReLU-5           [-1, 64, 32, 32]               0\n",
      "       BatchNorm2d-6           [-1, 64, 32, 32]             128\n",
      "           Dropout-7           [-1, 64, 32, 32]               0\n",
      "            Conv2d-8           [-1, 64, 32, 32]          36,864\n",
      "              ReLU-9           [-1, 64, 32, 32]               0\n",
      "      BatchNorm2d-10           [-1, 64, 32, 32]             128\n",
      "          Dropout-11           [-1, 64, 32, 32]               0\n",
      "        MaxPool2d-12           [-1, 64, 16, 16]               0\n",
      "           Conv2d-13           [-1, 64, 16, 16]          36,864\n",
      "             ReLU-14           [-1, 64, 16, 16]               0\n",
      "      BatchNorm2d-15           [-1, 64, 16, 16]             128\n",
      "          Dropout-16           [-1, 64, 16, 16]               0\n",
      "           Conv2d-17           [-1, 64, 16, 16]          36,864\n",
      "             ReLU-18           [-1, 64, 16, 16]               0\n",
      "      BatchNorm2d-19           [-1, 64, 16, 16]             128\n",
      "          Dropout-20           [-1, 64, 16, 16]               0\n",
      "           Conv2d-21           [-1, 64, 16, 16]          36,864\n",
      "             ReLU-22           [-1, 64, 16, 16]               0\n",
      "      BatchNorm2d-23           [-1, 64, 16, 16]             128\n",
      "          Dropout-24           [-1, 64, 16, 16]               0\n",
      "        MaxPool2d-25             [-1, 64, 8, 8]               0\n",
      "           Conv2d-26             [-1, 64, 8, 8]          36,864\n",
      "             ReLU-27             [-1, 64, 8, 8]               0\n",
      "      BatchNorm2d-28             [-1, 64, 8, 8]             128\n",
      "          Dropout-29             [-1, 64, 8, 8]               0\n",
      "           Conv2d-30             [-1, 64, 8, 8]          36,864\n",
      "             ReLU-31             [-1, 64, 8, 8]               0\n",
      "      BatchNorm2d-32             [-1, 64, 8, 8]             128\n",
      "          Dropout-33             [-1, 64, 8, 8]               0\n",
      "           Conv2d-34             [-1, 64, 8, 8]          36,864\n",
      "             ReLU-35             [-1, 64, 8, 8]               0\n",
      "      BatchNorm2d-36             [-1, 64, 8, 8]             128\n",
      "          Dropout-37             [-1, 64, 8, 8]               0\n",
      "        AvgPool2d-38             [-1, 64, 1, 1]               0\n",
      "      BatchNorm2d-39             [-1, 64, 1, 1]             128\n",
      "           Conv2d-40             [-1, 10, 1, 1]             640\n",
      "================================================================\n",
      "Total params: 298,560\n",
      "Trainable params: 298,560\n",
      "Non-trainable params: 0\n",
      "----------------------------------------------------------------\n",
      "Input size (MB): 0.01\n",
      "Forward/backward pass size (MB): 7.53\n",
      "Params size (MB): 1.14\n",
      "Estimated Total Size (MB): 8.68\n",
      "----------------------------------------------------------------\n"
     ]
    }
   ],
   "source": [
    "summary(model, input_size=(3, 32, 32))"
   ]
  },
  {
   "cell_type": "code",
   "execution_count": 8,
   "metadata": {},
   "outputs": [],
   "source": [
    "optimizer = optim.SGD(model.parameters(), lr=0.01, momentum=0.9)\n",
    "scheduler = optim.lr_scheduler.ReduceLROnPlateau(optimizer, patience=0, verbose=True, factor=0.5)\n",
    "loss_function = loss.cross_entropy_loss()"
   ]
  },
  {
   "cell_type": "code",
   "execution_count": null,
   "metadata": {},
   "outputs": [
    {
     "name": "stderr",
     "output_type": "stream",
     "text": [
      "\r",
      "  0%|                                                                                          | 0/391 [00:00<?, ?it/s]"
     ]
    },
    {
     "name": "stdout",
     "output_type": "stream",
     "text": [
      "EPOCH: 1\n"
     ]
    },
    {
     "name": "stderr",
     "output_type": "stream",
     "text": [
      "Loss=1.6280043125152588 Batch_id=76 Accuracy=31.00:  20%|█████▋                       | 77/391 [00:40<02:07,  2.47it/s]"
     ]
    }
   ],
   "source": [
    "train_acc, train_losses, test_acc, test_losses = engine.fit(model, train_loader, valid_loader, loss_function, device, optimizer, 40, scheduler)"
   ]
  },
  {
   "cell_type": "code",
   "execution_count": null,
   "metadata": {},
   "outputs": [],
   "source": []
  }
 ],
 "metadata": {
  "kernelspec": {
   "display_name": "Python 3",
   "language": "python",
   "name": "python3"
  },
  "language_info": {
   "codemirror_mode": {
    "name": "ipython",
    "version": 3
   },
   "file_extension": ".py",
   "mimetype": "text/x-python",
   "name": "python",
   "nbconvert_exporter": "python",
   "pygments_lexer": "ipython3",
   "version": "3.8.5"
  }
 },
 "nbformat": 4,
 "nbformat_minor": 4
}
